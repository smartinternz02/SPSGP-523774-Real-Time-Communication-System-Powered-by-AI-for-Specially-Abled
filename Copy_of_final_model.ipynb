{
  "cells": [
    {
      "cell_type": "code",
      "execution_count": 1,
      "metadata": {
        "colab": {
          "base_uri": "https://localhost:8080/"
        },
        "id": "f67beb8c",
        "outputId": "6a17196b-ed8e-4e0d-dc07-3d70558373fe"
      },
      "outputs": [
        {
          "output_type": "stream",
          "name": "stdout",
          "text": [
            "Requirement already satisfied: plotly in /usr/local/lib/python3.10/dist-packages (5.13.1)\n",
            "Requirement already satisfied: tenacity>=6.2.0 in /usr/local/lib/python3.10/dist-packages (from plotly) (8.2.2)\n"
          ]
        }
      ],
      "source": [
        "import pandas as pn\n",
        "import numpy as np\n",
        "import matplotlib.pyplot as plt\n",
        "import seaborn as sbn\n",
        "from sklearn.metrics import confusion_matrix\n",
        "import itertools\n",
        "import os\n",
        "import cv2\n",
        "import numpy as np\n",
        "import tensorflow as tf\n",
        "import pandas as pd\n",
        "import glob\n",
        "from matplotlib import pyplot as plt\n",
        "from keras.utils.np_utils import to_categorical # convert to one-hot-encoding\n",
        "from keras.models import Sequential\n",
        "from tensorflow.keras.models import Sequential\n",
        "from tensorflow.keras.layers import Convolution2D,MaxPooling2D,Flatten,Dense\n",
        "from tensorflow.keras.optimizers import RMSprop,Adam\n",
        "from keras.preprocessing.image import ImageDataGenerator\n",
        "from tensorflow.keras.preprocessing import image\n",
        "from keras.callbacks import ReduceLROnPlateau\n",
        "from tensorflow.keras.preprocessing.image import ImageDataGenerator\n",
        "!pip install plotly\n",
        "import plotly\n",
        "import plotly.graph_objects as go\n",
        "import plotly.express as px\n",
        "from plotly.subplots import make_subplots\n",
        "from sklearn.manifold import TSNE"
      ],
      "id": "f67beb8c"
    },
    {
      "cell_type": "code",
      "execution_count": 2,
      "metadata": {
        "colab": {
          "base_uri": "https://localhost:8080/"
        },
        "id": "YZUJLdsJzfdR",
        "outputId": "724c1c5e-9468-4876-e308-3419cf50b044"
      },
      "outputs": [
        {
          "output_type": "stream",
          "name": "stdout",
          "text": [
            "Drive already mounted at /content/drive; to attempt to forcibly remount, call drive.mount(\"/content/drive\", force_remount=True).\n"
          ]
        }
      ],
      "source": [
        "from google.colab import drive\n",
        "drive.mount('/content/drive')"
      ],
      "id": "YZUJLdsJzfdR"
    },
    {
      "cell_type": "code",
      "execution_count": 3,
      "metadata": {
        "colab": {
          "base_uri": "https://localhost:8080/"
        },
        "id": "fBBGukNhzGLn",
        "outputId": "d896b84b-18e8-4100-ed59-57e399d554dc"
      },
      "outputs": [
        {
          "output_type": "stream",
          "name": "stdout",
          "text": [
            "Archive:  /content/drive/MyDrive/Dataset.zip\n",
            "replace Dataset/test_set/A/1.png? [y]es, [n]o, [A]ll, [N]one, [r]ename: N\n"
          ]
        }
      ],
      "source": [
        "!unzip /content/drive/MyDrive/Dataset.zip"
      ],
      "id": "fBBGukNhzGLn"
    },
    {
      "cell_type": "code",
      "execution_count": 4,
      "metadata": {
        "id": "a21fdafd"
      },
      "outputs": [],
      "source": [
        "#training and testing datagenerator\n",
        "train_data=ImageDataGenerator(rescale=1./255,zoom_range=0.2,shear_range=0.2,horizontal_flip=True,validation_split=0.2)\n",
        "test_data=ImageDataGenerator(rescale=1./255)"
      ],
      "id": "a21fdafd"
    },
    {
      "cell_type": "code",
      "execution_count": 5,
      "metadata": {
        "colab": {
          "base_uri": "https://localhost:8080/"
        },
        "id": "d5542cdc",
        "outputId": "b69571c9-4cba-42f2-d59e-2219efaf95a3"
      },
      "outputs": [
        {
          "output_type": "stream",
          "name": "stdout",
          "text": [
            "Found 15750 images belonging to 9 classes.\n",
            "Found 2250 images belonging to 9 classes.\n",
            "Found 3150 images belonging to 9 classes.\n"
          ]
        }
      ],
      "source": [
        "x_train=train_data.flow_from_directory('/content/Dataset/training_set',target_size=(64,64),class_mode='categorical',batch_size=100)\n",
        "x_test=test_data.flow_from_directory('/content/Dataset/test_set',target_size=(64,64),class_mode='categorical',batch_size=100,shuffle=False)\n",
        "validation_generator = train_data.flow_from_directory(\n",
        "    '/content/Dataset/training_set', # same directory as training data\n",
        "    target_size=(64, 64),\n",
        "    batch_size=100,\n",
        "    class_mode='categorical',\n",
        "    subset='validation')"
      ],
      "id": "d5542cdc"
    },
    {
      "cell_type": "code",
      "execution_count": 5,
      "metadata": {
        "id": "37NaQyS4Zq07"
      },
      "outputs": [],
      "source": [],
      "id": "37NaQyS4Zq07"
    },
    {
      "cell_type": "code",
      "execution_count": 6,
      "metadata": {
        "colab": {
          "base_uri": "https://localhost:8080/"
        },
        "id": "66cefebe",
        "outputId": "fcab1d65-2d5e-4026-c880-8d64dc27c835"
      },
      "outputs": [
        {
          "output_type": "stream",
          "name": "stdout",
          "text": [
            "158\n",
            "23\n"
          ]
        }
      ],
      "source": [
        "print(len(x_train))\n",
        "print(len(x_test))"
      ],
      "id": "66cefebe"
    },
    {
      "cell_type": "code",
      "execution_count": 7,
      "metadata": {
        "colab": {
          "base_uri": "https://localhost:8080/"
        },
        "id": "IkhjxCzz0PGE",
        "outputId": "420a15f9-aa0d-4e60-e0bd-442485dd1622"
      },
      "outputs": [
        {
          "output_type": "execute_result",
          "data": {
            "text/plain": [
              "{'A': 0, 'B': 1, 'C': 2, 'D': 3, 'E': 4, 'F': 5, 'G': 6, 'H': 7, 'I': 8}"
            ]
          },
          "metadata": {},
          "execution_count": 7
        }
      ],
      "source": [
        "x_train.class_indices"
      ],
      "id": "IkhjxCzz0PGE"
    },
    {
      "cell_type": "code",
      "execution_count": 8,
      "metadata": {
        "id": "QNm1b_19yT-p"
      },
      "outputs": [],
      "source": [
        "path = '/content/Dataset/training_set'"
      ],
      "id": "QNm1b_19yT-p"
    },
    {
      "cell_type": "code",
      "execution_count": 9,
      "metadata": {
        "colab": {
          "base_uri": "https://localhost:8080/",
          "height": 132
        },
        "id": "VmdICPtxyXw9",
        "outputId": "a7b79d29-700b-418c-cfbe-4ab1e03a8141"
      },
      "outputs": [
        {
          "output_type": "display_data",
          "data": {
            "text/plain": [
              "<Figure size 1000x500 with 9 Axes>"
            ],
            "image/png": "[encoded data removed]"
          },
          "metadata": {}
        }
      ],
      "source": [
        "fig, ax = plt.subplots(1, 9, figsize=(10, 5))\n",
        "\n",
        "img_classes = [os.path.join(path, im) for im in os.listdir(path)]\n",
        "\n",
        "ax = ax.flatten()\n",
        "\n",
        "for i, img_class in enumerate(img_classes):\n",
        "    img = os.listdir(img_class)[np.random.randint(0, 10)]\n",
        "    img_path = os.path.join(img_class, img)\n",
        "    image = cv2.imread(img_path)\n",
        "    ax[i].imshow(cv2.cvtColor(image, cv2.COLOR_BGR2RGB))\n",
        "    ax[i].set_title(os.path.basename(img_class))\n",
        "    ax[i].axis('off')\n",
        "\n",
        "plt.show()"
      ],
      "id": "VmdICPtxyXw9"
    },
    {
      "cell_type": "code",
      "execution_count": 10,
      "metadata": {
        "id": "GrTsYYy5AVOV"
      },
      "outputs": [],
      "source": [
        "from keras.models import load_model, Model"
      ],
      "id": "GrTsYYy5AVOV"
    },
    {
      "cell_type": "code",
      "execution_count": 11,
      "metadata": {
        "id": "xG9nGeUJxxdy"
      },
      "outputs": [],
      "source": [
        "path = '/content/Dataset/test_set'"
      ],
      "id": "xG9nGeUJxxdy"
    },
    {
      "cell_type": "code",
      "execution_count": 12,
      "metadata": {
        "id": "ANY-VS48xwb0"
      },
      "outputs": [],
      "source": [
        "img_classes = [os.path.join(path, im) for im in os.listdir(path)]\n"
      ],
      "id": "ANY-VS48xwb0"
    },
    {
      "cell_type": "code",
      "execution_count": 13,
      "metadata": {
        "colab": {
          "base_uri": "https://localhost:8080/"
        },
        "id": "5SblJexIx2NM",
        "outputId": "af06aad3-5166-4442-d46b-84134383a842"
      },
      "outputs": [
        {
          "output_type": "execute_result",
          "data": {
            "text/plain": [
              "['/content/Dataset/test_set/A',\n",
              " '/content/Dataset/test_set/B',\n",
              " '/content/Dataset/test_set/C',\n",
              " '/content/Dataset/test_set/D',\n",
              " '/content/Dataset/test_set/E',\n",
              " '/content/Dataset/test_set/F',\n",
              " '/content/Dataset/test_set/G',\n",
              " '/content/Dataset/test_set/H',\n",
              " '/content/Dataset/test_set/I']"
            ]
          },
          "metadata": {},
          "execution_count": 13
        }
      ],
      "source": [
        "img_classes.sort()\n",
        "img_classes"
      ],
      "id": "5SblJexIx2NM"
    },
    {
      "cell_type": "markdown",
      "metadata": {
        "id": "72447408"
      },
      "source": [
        "### MODEL"
      ],
      "id": "72447408"
    },
    {
      "cell_type": "code",
      "execution_count": 14,
      "metadata": {
        "id": "pIfSizmdOa_Q"
      },
      "outputs": [],
      "source": [
        "from keras.applications import VGG16;\n",
        "from keras.applications.vgg16 import preprocess_input"
      ],
      "id": "pIfSizmdOa_Q"
    },
    {
      "cell_type": "code",
      "execution_count": 15,
      "metadata": {
        "id": "370178ca"
      },
      "outputs": [],
      "source": [
        "model=Sequential()\n",
        "model.add(Convolution2D(32,(3,3),activation='relu',input_shape=(64,64,3)))\n",
        "model.add(MaxPooling2D(pool_size=(2,2)))\n",
        "model.add(Flatten())\n",
        "\n",
        "# Adding Hidden Layers\n",
        "model.add(Dense(256,activation='relu'))\n",
        "model.add(Dense(128,activation='relu'))\n",
        "\n",
        "# Adding Output Layer\n",
        "model.add(Dense(9,activation='softmax'))\n"
      ],
      "id": "370178ca"
    },
    {
      "cell_type": "code",
      "execution_count": 16,
      "metadata": {
        "colab": {
          "base_uri": "https://localhost:8080/"
        },
        "id": "HF0l99t0MHLB",
        "outputId": "96cd7a98-f5c2-4569-e721-ffbd059ac615"
      },
      "outputs": [
        {
          "output_type": "stream",
          "name": "stdout",
          "text": [
            "Model: \"sequential\"\n",
            "_________________________________________________________________\n",
            " Layer (type)                Output Shape              Param #   \n",
            "=================================================================\n",
            " conv2d (Conv2D)             (None, 62, 62, 32)        896       \n",
            "                                                                 \n",
            " max_pooling2d (MaxPooling2D  (None, 31, 31, 32)       0         \n",
            " )                                                               \n",
            "                                                                 \n",
            " flatten (Flatten)           (None, 30752)             0         \n",
            "                                                                 \n",
            " dense (Dense)               (None, 256)               7872768   \n",
            "                                                                 \n",
            " dense_1 (Dense)             (None, 128)               32896     \n",
            "                                                                 \n",
            " dense_2 (Dense)             (None, 9)                 1161      \n",
            "                                                                 \n",
            "=================================================================\n",
            "Total params: 7,907,721\n",
            "Trainable params: 7,907,721\n",
            "Non-trainable params: 0\n",
            "_________________________________________________________________\n"
          ]
        }
      ],
      "source": [
        "\n",
        "\n",
        "\n",
        "model.compile(optimizer='adam', loss = 'categorical_crossentropy',metrics = ['accuracy'])\n",
        "model.summary()"
      ],
      "id": "HF0l99t0MHLB"
    },
    {
      "cell_type": "code",
      "execution_count": 16,
      "metadata": {
        "id": "qdjvpQz12QQl"
      },
      "outputs": [],
      "source": [],
      "id": "qdjvpQz12QQl"
    },
    {
      "cell_type": "code",
      "execution_count": 17,
      "metadata": {
        "id": "UDVrH0SqMX-E"
      },
      "outputs": [],
      "source": [
        "class callbacks(tf.keras.callbacks.Callback):\n",
        "    def on_epoch_end(self,epochs,logs={}):\n",
        "        if(logs.get('val_accuracy')>0.99):\n",
        "            self.model.stop_training=True"
      ],
      "id": "UDVrH0SqMX-E"
    },
    {
      "cell_type": "code",
      "execution_count": 18,
      "metadata": {
        "id": "gHdpl7tDM4Fo"
      },
      "outputs": [],
      "source": [
        "\n",
        "callback = callbacks()\n"
      ],
      "id": "gHdpl7tDM4Fo"
    },
    {
      "cell_type": "code",
      "execution_count": 19,
      "metadata": {
        "colab": {
          "base_uri": "https://localhost:8080/"
        },
        "id": "0tob481vMav_",
        "outputId": "c8666114-3c1a-403c-e0cf-4a523e592c8f"
      },
      "outputs": [
        {
          "output_type": "stream",
          "name": "stderr",
          "text": [
            "<ipython-input-19-14758fdefc2d>:1: UserWarning: `Model.fit_generator` is deprecated and will be removed in a future version. Please use `Model.fit`, which supports generators.\n",
            "  history=model.fit_generator(\n"
          ]
        },
        {
          "output_type": "stream",
          "name": "stdout",
          "text": [
            "Epoch 1/10\n",
            "158/158 [==============================] - 44s 219ms/step - loss: 0.3071 - accuracy: 0.9018 - val_loss: 0.0566 - val_accuracy: 0.9857\n",
            "Epoch 2/10\n",
            "158/158 [==============================] - 30s 191ms/step - loss: 0.0382 - accuracy: 0.9884 - val_loss: 0.0188 - val_accuracy: 0.9959\n"
          ]
        }
      ],
      "source": [
        "history=model.fit_generator(\n",
        "        x_train,\n",
        "        steps_per_epoch=len(x_train),\n",
        "        epochs=10,\n",
        "        validation_data = validation_generator,\n",
        "    validation_steps = len(validation_generator),\n",
        "        callbacks=callback\n",
        "\n",
        ")"
      ],
      "id": "0tob481vMav_"
    },
    {
      "cell_type": "code",
      "execution_count": 20,
      "metadata": {
        "id": "8D4vqhQ6Qo7z",
        "colab": {
          "base_uri": "https://localhost:8080/",
          "height": 472
        },
        "outputId": "064c6598-0262-49dd-a4db-6c5dff46ad32"
      },
      "outputs": [
        {
          "output_type": "display_data",
          "data": {
            "text/plain": [
              "<Figure size 640x480 with 1 Axes>"
            ],
            "image/png": "[encoded data removed]"
          },
          "metadata": {}
        }
      ],
      "source": [
        "plt.plot(history.history['accuracy'])\n",
        "plt.plot(history.history['val_accuracy'])\n",
        "plt.title(\"Accuracy\")\n",
        "plt.xlabel('epoch')\n",
        "plt.ylabel('accuracy')\n",
        "plt.legend(['train','test'])\n",
        "plt.show()"
      ],
      "id": "8D4vqhQ6Qo7z"
    },
    {
      "cell_type": "code",
      "execution_count": 21,
      "metadata": {
        "id": "tuHyP0JbvVUK"
      },
      "outputs": [],
      "source": [
        "import numpy as np\n",
        "from tensorflow.keras.models import load_model\n",
        "from tensorflow.keras.preprocessing import image"
      ],
      "id": "tuHyP0JbvVUK"
    },
    {
      "cell_type": "code",
      "execution_count": 22,
      "metadata": {
        "id": "n9W4E7DaziD4"
      },
      "outputs": [],
      "source": [
        "model.save('model1.h5')"
      ],
      "id": "n9W4E7DaziD4"
    },
    {
      "cell_type": "code",
      "execution_count": 120,
      "metadata": {
        "id": "BGSWkC-UtZqn"
      },
      "outputs": [],
      "source": [
        "img=image.load_img('/content/Dataset/test_set/G/10.png',\n",
        "                   target_size=(64,64))"
      ],
      "id": "BGSWkC-UtZqn"
    },
    {
      "cell_type": "code",
      "execution_count": 121,
      "metadata": {
        "id": "XJYVmSefvpfG"
      },
      "outputs": [],
      "source": [
        "x=image.img_to_array(img)"
      ],
      "id": "XJYVmSefvpfG"
    },
    {
      "cell_type": "code",
      "execution_count": 122,
      "metadata": {
        "id": "gz5XucO9vZza",
        "colab": {
          "base_uri": "https://localhost:8080/",
          "height": 81
        },
        "outputId": "e51cb39f-0688-48ea-a9b2-1fbad22d25ba"
      },
      "outputs": [
        {
          "output_type": "execute_result",
          "data": {
            "text/plain": [
              "<PIL.Image.Image image mode=RGB size=64x64 at 0x7F8BF4C46020>"
            ],
            "image/png": "[encoded data removed]"
          },
          "metadata": {},
          "execution_count": 122
        }
      ],
      "source": [
        "\n",
        "\n",
        "img\n",
        "\n"
      ],
      "id": "gz5XucO9vZza"
    },
    {
      "cell_type": "code",
      "execution_count": 123,
      "metadata": {
        "id": "mEHHbaaovbCp",
        "colab": {
          "base_uri": "https://localhost:8080/"
        },
        "outputId": "c3dce050-50c2-473c-a42f-acd643ba4c1a"
      },
      "outputs": [
        {
          "output_type": "stream",
          "name": "stdout",
          "text": [
            "1/1 [==============================] - 0s 27ms/step\n"
          ]
        }
      ],
      "source": [
        "x=np.expand_dims(x,axis=0)\n",
        "pred=np.argmax(model.predict(x),axis=1)\n",
        "\n",
        "\n"
      ],
      "id": "mEHHbaaovbCp"
    },
    {
      "cell_type": "code",
      "execution_count": 124,
      "metadata": {
        "id": "wTVPYeV_vhT1",
        "colab": {
          "base_uri": "https://localhost:8080/"
        },
        "outputId": "c2599bcb-2b1b-485c-a92c-205cbb02a8b7"
      },
      "outputs": [
        {
          "output_type": "execute_result",
          "data": {
            "text/plain": [
              "array([6])"
            ]
          },
          "metadata": {},
          "execution_count": 124
        }
      ],
      "source": [
        "pred"
      ],
      "id": "wTVPYeV_vhT1"
    },
    {
      "cell_type": "code",
      "execution_count": 125,
      "metadata": {
        "id": "Cre9a_6QyJ-c",
        "colab": {
          "base_uri": "https://localhost:8080/"
        },
        "outputId": "9e9113c0-3fa7-4a45-c4eb-dba475cd3872"
      },
      "outputs": [
        {
          "output_type": "stream",
          "name": "stdout",
          "text": [
            "G\n"
          ]
        }
      ],
      "source": [
        "index=['A','B','C','D','E','F','G','H','I']\n",
        "print(index[pred[0]])"
      ],
      "id": "Cre9a_6QyJ-c"
    },
    {
      "cell_type": "code",
      "execution_count": 83,
      "metadata": {
        "id": "AoBL7mZCwZWA",
        "colab": {
          "base_uri": "https://localhost:8080/"
        },
        "outputId": "5332f22d-17bc-47db-d04b-b0634e9ebc00"
      },
      "outputs": [
        {
          "output_type": "execute_result",
          "data": {
            "text/plain": [
              "['/content/Dataset/test_set/C',\n",
              " '/content/Dataset/test_set/A',\n",
              " '/content/Dataset/test_set/H',\n",
              " '/content/Dataset/test_set/I',\n",
              " '/content/Dataset/test_set/G',\n",
              " '/content/Dataset/test_set/D',\n",
              " '/content/Dataset/test_set/F',\n",
              " '/content/Dataset/test_set/E',\n",
              " '/content/Dataset/test_set/B']"
            ]
          },
          "metadata": {},
          "execution_count": 83
        }
      ],
      "source": [
        "img_classes = [os.path.join(path, im) for im in os.listdir(path)]\n",
        "img_classes"
      ],
      "id": "AoBL7mZCwZWA"
    },
    {
      "cell_type": "code",
      "execution_count": 48,
      "metadata": {
        "id": "8Jk5uoIdyx98",
        "colab": {
          "base_uri": "https://localhost:8080/"
        },
        "outputId": "8992698c-45a2-4b58-d3c9-7268dd368b7c"
      },
      "outputs": [
        {
          "output_type": "stream",
          "name": "stdout",
          "text": [
            "[0 0 0 ... 8 8 8]\n"
          ]
        }
      ],
      "source": [
        "print(x_test.classes)"
      ],
      "id": "8Jk5uoIdyx98"
    },
    {
      "cell_type": "code",
      "execution_count": 49,
      "metadata": {
        "id": "_FBqWMZRvoOS",
        "colab": {
          "base_uri": "https://localhost:8080/"
        },
        "outputId": "adf20395-ee8c-47d0-955f-3be5500ce774"
      },
      "outputs": [
        {
          "output_type": "stream",
          "name": "stdout",
          "text": [
            "23/23 [==============================] - 2s 87ms/step\n"
          ]
        }
      ],
      "source": [
        "pred=model.predict(x_test)"
      ],
      "id": "_FBqWMZRvoOS"
    },
    {
      "cell_type": "code",
      "execution_count": 50,
      "metadata": {
        "id": "xXciheRVwcQA",
        "colab": {
          "base_uri": "https://localhost:8080/"
        },
        "outputId": "243453a4-09c5-4e4c-c724-6d4763f26806"
      },
      "outputs": [
        {
          "output_type": "stream",
          "name": "stdout",
          "text": [
            "23/23 [==============================] - 3s 139ms/step - loss: 0.2742 - accuracy: 0.9747\n"
          ]
        },
        {
          "output_type": "execute_result",
          "data": {
            "text/plain": [
              "[0.2742185592651367, 0.9746666550636292]"
            ]
          },
          "metadata": {},
          "execution_count": 50
        }
      ],
      "source": [
        "model.evaluate(x_test)"
      ],
      "id": "xXciheRVwcQA"
    },
    {
      "cell_type": "code",
      "execution_count": 51,
      "metadata": {
        "id": "BkoPIZX-Cspz"
      },
      "outputs": [],
      "source": [
        "y_true=x_test.classes[x_test.index_array]"
      ],
      "id": "BkoPIZX-Cspz"
    },
    {
      "cell_type": "code",
      "execution_count": 52,
      "metadata": {
        "id": "_vWAU8R-52sv",
        "colab": {
          "base_uri": "https://localhost:8080/"
        },
        "outputId": "b0d68506-42a8-46ca-a3d9-3f45d648d04b"
      },
      "outputs": [
        {
          "output_type": "execute_result",
          "data": {
            "text/plain": [
              "array([0, 0, 0, ..., 8, 8, 8], dtype=int32)"
            ]
          },
          "metadata": {},
          "execution_count": 52
        }
      ],
      "source": [
        "y_true"
      ],
      "id": "_vWAU8R-52sv"
    },
    {
      "cell_type": "code",
      "execution_count": 53,
      "metadata": {
        "id": "_HMJxIFX55Pz",
        "colab": {
          "base_uri": "https://localhost:8080/"
        },
        "outputId": "d20af44b-5e72-4e8e-e927-1b0f9a1d070a"
      },
      "outputs": [
        {
          "output_type": "execute_result",
          "data": {
            "text/plain": [
              "array([0, 0, 0, ..., 8, 8, 8])"
            ]
          },
          "metadata": {},
          "execution_count": 53
        }
      ],
      "source": [
        "pred.argmax(axis=1)"
      ],
      "id": "_HMJxIFX55Pz"
    },
    {
      "cell_type": "code",
      "execution_count": 53,
      "metadata": {
        "id": "KwUmTL0f6GvC"
      },
      "outputs": [],
      "source": [],
      "id": "KwUmTL0f6GvC"
    },
    {
      "cell_type": "code",
      "execution_count": 54,
      "metadata": {
        "id": "7Z0yEGNWGEhj"
      },
      "outputs": [],
      "source": [
        "import sklearn"
      ],
      "id": "7Z0yEGNWGEhj"
    },
    {
      "cell_type": "code",
      "execution_count": 55,
      "metadata": {
        "id": "Z0MK00sUF9BD"
      },
      "outputs": [],
      "source": [
        "cm=sklearn.metrics.confusion_matrix(y_true,pred.argmax(axis=1))"
      ],
      "id": "Z0MK00sUF9BD"
    },
    {
      "cell_type": "code",
      "execution_count": 56,
      "metadata": {
        "id": "jZPg0QDqGJmT",
        "colab": {
          "base_uri": "https://localhost:8080/"
        },
        "outputId": "93573264-7c5a-4aee-c30c-67117245f5a7"
      },
      "outputs": [
        {
          "output_type": "execute_result",
          "data": {
            "text/plain": [
              "array([[250,   0,   0,   0,   0,   0,   0,   0,   0],\n",
              "       [  0, 250,   0,   0,   0,   0,   0,   0,   0],\n",
              "       [  0,   0, 249,   1,   0,   0,   0,   0,   0],\n",
              "       [  0,   0,   0, 250,   0,   0,   0,   0,   0],\n",
              "       [  0,   0,   0,   0, 249,   0,   0,   0,   1],\n",
              "       [  0,   0,   0,   0,   0, 250,   0,   0,   0],\n",
              "       [  0,   0,   0,   0,   0,   0, 246,   4,   0],\n",
              "       [  0,   0,   0,   0,   0,   0,  50, 200,   0],\n",
              "       [  0,   0,   0,   0,   0,   1,   0,   0, 249]])"
            ]
          },
          "metadata": {},
          "execution_count": 56
        }
      ],
      "source": [
        "cm"
      ],
      "id": "jZPg0QDqGJmT"
    },
    {
      "cell_type": "code",
      "execution_count": 57,
      "metadata": {
        "id": "t7gN2wUNE5gZ",
        "colab": {
          "base_uri": "https://localhost:8080/"
        },
        "outputId": "6d1a4da0-29ab-4b11-c460-ea574d0f9d7d"
      },
      "outputs": [
        {
          "output_type": "execute_result",
          "data": {
            "text/plain": [
              "['A', 'B', 'C', 'D', 'E', 'F', 'G', 'H', 'I']"
            ]
          },
          "metadata": {},
          "execution_count": 57
        }
      ],
      "source": [
        "list((x_test.class_indices.keys()))"
      ],
      "id": "t7gN2wUNE5gZ"
    },
    {
      "cell_type": "code",
      "execution_count": 58,
      "metadata": {
        "id": "iPXeFx7ZERyK",
        "colab": {
          "base_uri": "https://localhost:8080/",
          "height": 1000
        },
        "outputId": "acdfcc80-e324-4046-a579-9c096bae84f1"
      },
      "outputs": [
        {
          "output_type": "display_data",
          "data": {
            "text/html": [
              "<html>\n",
              "<head><meta charset=\"utf-8\" /></head>\n",
              "<body>\n",
              "    <div>            <script src=\"https://cdnjs.cloudflare.com/ajax/libs/mathjax/2.7.5/MathJax.js?config=TeX-AMS-MML_SVG\"></script><script type=\"text/javascript\">if (window.MathJax && window.MathJax.Hub && window.MathJax.Hub.Config) {window.MathJax.Hub.Config({SVG: {font: \"STIX-Web\"}});}</script>                <script type=\"text/javascript\">window.PlotlyConfig = {MathJaxConfig: 'local'};</script>\n",
              "        <script src=\"https://cdn.plot.ly/plotly-2.18.2.min.js\"></script>                <div id=\"4a44f966-efd7-4151-815e-24439ed9adfd\" class=\"plotly-graph-div\" style=\"height:1115px; width:1050px;\"></div>            <script type=\"text/javascript\">                                    window.PLOTLYENV=window.PLOTLYENV || {};                                    if (document.getElementById(\"4a44f966-efd7-4151-815e-24439ed9adfd\")) {                    Plotly.newPlot(                        \"4a44f966-efd7-4151-815e-24439ed9adfd\",                        [{\"colorscale\":[[0,\"#f4f4f4\"],[1.0,\"#76503d\"]],\"hovertemplate\":\"\\n        Actual: %{y}<br>\\n        Predicted: %{x}<br>\\n        Total: %{text}\\n        \",\"name\":\"Confusion Matrix\",\"showscale\":false,\"text\":[[0,0,0,0,0,1,0,0,249],[0,0,0,0,0,0,50,200,0],[0,0,0,0,0,0,246,4,0],[0,0,0,0,0,250,0,0,0],[0,0,0,0,249,0,0,0,1],[0,0,0,250,0,0,0,0,0],[0,0,249,1,0,0,0,0,0],[0,250,0,0,0,0,0,0,0],[250,0,0,0,0,0,0,0,0]],\"textfont\":{\"size\":8},\"texttemplate\":\"<b>%{text}</b>\",\"x\":[\"A\",\"B\",\"C\",\"D\",\"E\",\"F\",\"G\",\"H\",\"I\"],\"xgap\":5,\"y\":[\"I\",\"H\",\"G\",\"F\",\"E\",\"D\",\"C\",\"B\",\"A\"],\"ygap\":5,\"z\":[[0,0,0,0,0,1,0,0,249],[0,0,0,0,0,0,50,200,0],[0,0,0,0,0,0,246,4,0],[0,0,0,0,0,250,0,0,0],[0,0,0,0,249,0,0,0,1],[0,0,0,250,0,0,0,0,0],[0,0,249,1,0,0,0,0,0],[0,250,0,0,0,0,0,0,0],[250,0,0,0,0,0,0,0,0]],\"type\":\"heatmap\"}],                        {\"template\":{\"data\":{\"histogram2dcontour\":[{\"type\":\"histogram2dcontour\",\"colorbar\":{\"outlinewidth\":0,\"ticks\":\"\"},\"colorscale\":[[0.0,\"#0d0887\"],[0.1111111111111111,\"#46039f\"],[0.2222222222222222,\"#7201a8\"],[0.3333333333333333,\"#9c179e\"],[0.4444444444444444,\"#bd3786\"],[0.5555555555555556,\"#d8576b\"],[0.6666666666666666,\"#ed7953\"],[0.7777777777777778,\"#fb9f3a\"],[0.8888888888888888,\"#fdca26\"],[1.0,\"#f0f921\"]]}],\"choropleth\":[{\"type\":\"choropleth\",\"colorbar\":{\"outlinewidth\":0,\"ticks\":\"\"}}],\"histogram2d\":[{\"type\":\"histogram2d\",\"colorbar\":{\"outlinewidth\":0,\"ticks\":\"\"},\"colorscale\":[[0.0,\"#0d0887\"],[0.1111111111111111,\"#46039f\"],[0.2222222222222222,\"#7201a8\"],[0.3333333333333333,\"#9c179e\"],[0.4444444444444444,\"#bd3786\"],[0.5555555555555556,\"#d8576b\"],[0.6666666666666666,\"#ed7953\"],[0.7777777777777778,\"#fb9f3a\"],[0.8888888888888888,\"#fdca26\"],[1.0,\"#f0f921\"]]}],\"heatmap\":[{\"type\":\"heatmap\",\"colorbar\":{\"outlinewidth\":0,\"ticks\":\"\"},\"colorscale\":[[0.0,\"#0d0887\"],[0.1111111111111111,\"#46039f\"],[0.2222222222222222,\"#7201a8\"],[0.3333333333333333,\"#9c179e\"],[0.4444444444444444,\"#bd3786\"],[0.5555555555555556,\"#d8576b\"],[0.6666666666666666,\"#ed7953\"],[0.7777777777777778,\"#fb9f3a\"],[0.8888888888888888,\"#fdca26\"],[1.0,\"#f0f921\"]]}],\"heatmapgl\":[{\"type\":\"heatmapgl\",\"colorbar\":{\"outlinewidth\":0,\"ticks\":\"\"},\"colorscale\":[[0.0,\"#0d0887\"],[0.1111111111111111,\"#46039f\"],[0.2222222222222222,\"#7201a8\"],[0.3333333333333333,\"#9c179e\"],[0.4444444444444444,\"#bd3786\"],[0.5555555555555556,\"#d8576b\"],[0.6666666666666666,\"#ed7953\"],[0.7777777777777778,\"#fb9f3a\"],[0.8888888888888888,\"#fdca26\"],[1.0,\"#f0f921\"]]}],\"contourcarpet\":[{\"type\":\"contourcarpet\",\"colorbar\":{\"outlinewidth\":0,\"ticks\":\"\"}}],\"contour\":[{\"type\":\"contour\",\"colorbar\":{\"outlinewidth\":0,\"ticks\":\"\"},\"colorscale\":[[0.0,\"#0d0887\"],[0.1111111111111111,\"#46039f\"],[0.2222222222222222,\"#7201a8\"],[0.3333333333333333,\"#9c179e\"],[0.4444444444444444,\"#bd3786\"],[0.5555555555555556,\"#d8576b\"],[0.6666666666666666,\"#ed7953\"],[0.7777777777777778,\"#fb9f3a\"],[0.8888888888888888,\"#fdca26\"],[1.0,\"#f0f921\"]]}],\"surface\":[{\"type\":\"surface\",\"colorbar\":{\"outlinewidth\":0,\"ticks\":\"\"},\"colorscale\":[[0.0,\"#0d0887\"],[0.1111111111111111,\"#46039f\"],[0.2222222222222222,\"#7201a8\"],[0.3333333333333333,\"#9c179e\"],[0.4444444444444444,\"#bd3786\"],[0.5555555555555556,\"#d8576b\"],[0.6666666666666666,\"#ed7953\"],[0.7777777777777778,\"#fb9f3a\"],[0.8888888888888888,\"#fdca26\"],[1.0,\"#f0f921\"]]}],\"mesh3d\":[{\"type\":\"mesh3d\",\"colorbar\":{\"outlinewidth\":0,\"ticks\":\"\"}}],\"scatter\":[{\"fillpattern\":{\"fillmode\":\"overlay\",\"size\":10,\"solidity\":0.2},\"type\":\"scatter\"}],\"parcoords\":[{\"type\":\"parcoords\",\"line\":{\"colorbar\":{\"outlinewidth\":0,\"ticks\":\"\"}}}],\"scatterpolargl\":[{\"type\":\"scatterpolargl\",\"marker\":{\"colorbar\":{\"outlinewidth\":0,\"ticks\":\"\"}}}],\"bar\":[{\"error_x\":{\"color\":\"#2a3f5f\"},\"error_y\":{\"color\":\"#2a3f5f\"},\"marker\":{\"line\":{\"color\":\"#E5ECF6\",\"width\":0.5},\"pattern\":{\"fillmode\":\"overlay\",\"size\":10,\"solidity\":0.2}},\"type\":\"bar\"}],\"scattergeo\":[{\"type\":\"scattergeo\",\"marker\":{\"colorbar\":{\"outlinewidth\":0,\"ticks\":\"\"}}}],\"scatterpolar\":[{\"type\":\"scatterpolar\",\"marker\":{\"colorbar\":{\"outlinewidth\":0,\"ticks\":\"\"}}}],\"histogram\":[{\"marker\":{\"pattern\":{\"fillmode\":\"overlay\",\"size\":10,\"solidity\":0.2}},\"type\":\"histogram\"}],\"scattergl\":[{\"type\":\"scattergl\",\"marker\":{\"colorbar\":{\"outlinewidth\":0,\"ticks\":\"\"}}}],\"scatter3d\":[{\"type\":\"scatter3d\",\"line\":{\"colorbar\":{\"outlinewidth\":0,\"ticks\":\"\"}},\"marker\":{\"colorbar\":{\"outlinewidth\":0,\"ticks\":\"\"}}}],\"scattermapbox\":[{\"type\":\"scattermapbox\",\"marker\":{\"colorbar\":{\"outlinewidth\":0,\"ticks\":\"\"}}}],\"scatterternary\":[{\"type\":\"scatterternary\",\"marker\":{\"colorbar\":{\"outlinewidth\":0,\"ticks\":\"\"}}}],\"scattercarpet\":[{\"type\":\"scattercarpet\",\"marker\":{\"colorbar\":{\"outlinewidth\":0,\"ticks\":\"\"}}}],\"carpet\":[{\"aaxis\":{\"endlinecolor\":\"#2a3f5f\",\"gridcolor\":\"white\",\"linecolor\":\"white\",\"minorgridcolor\":\"white\",\"startlinecolor\":\"#2a3f5f\"},\"baxis\":{\"endlinecolor\":\"#2a3f5f\",\"gridcolor\":\"white\",\"linecolor\":\"white\",\"minorgridcolor\":\"white\",\"startlinecolor\":\"#2a3f5f\"},\"type\":\"carpet\"}],\"table\":[{\"cells\":{\"fill\":{\"color\":\"#EBF0F8\"},\"line\":{\"color\":\"white\"}},\"header\":{\"fill\":{\"color\":\"#C8D4E3\"},\"line\":{\"color\":\"white\"}},\"type\":\"table\"}],\"barpolar\":[{\"marker\":{\"line\":{\"color\":\"#E5ECF6\",\"width\":0.5},\"pattern\":{\"fillmode\":\"overlay\",\"size\":10,\"solidity\":0.2}},\"type\":\"barpolar\"}],\"pie\":[{\"automargin\":true,\"type\":\"pie\"}]},\"layout\":{\"autotypenumbers\":\"strict\",\"colorway\":[\"#636efa\",\"#EF553B\",\"#00cc96\",\"#ab63fa\",\"#FFA15A\",\"#19d3f3\",\"#FF6692\",\"#B6E880\",\"#FF97FF\",\"#FECB52\"],\"font\":{\"color\":\"#2a3f5f\"},\"hovermode\":\"closest\",\"hoverlabel\":{\"align\":\"left\"},\"paper_bgcolor\":\"white\",\"plot_bgcolor\":\"#E5ECF6\",\"polar\":{\"bgcolor\":\"#E5ECF6\",\"angularaxis\":{\"gridcolor\":\"white\",\"linecolor\":\"white\",\"ticks\":\"\"},\"radialaxis\":{\"gridcolor\":\"white\",\"linecolor\":\"white\",\"ticks\":\"\"}},\"ternary\":{\"bgcolor\":\"#E5ECF6\",\"aaxis\":{\"gridcolor\":\"white\",\"linecolor\":\"white\",\"ticks\":\"\"},\"baxis\":{\"gridcolor\":\"white\",\"linecolor\":\"white\",\"ticks\":\"\"},\"caxis\":{\"gridcolor\":\"white\",\"linecolor\":\"white\",\"ticks\":\"\"}},\"coloraxis\":{\"colorbar\":{\"outlinewidth\":0,\"ticks\":\"\"}},\"colorscale\":{\"sequential\":[[0.0,\"#0d0887\"],[0.1111111111111111,\"#46039f\"],[0.2222222222222222,\"#7201a8\"],[0.3333333333333333,\"#9c179e\"],[0.4444444444444444,\"#bd3786\"],[0.5555555555555556,\"#d8576b\"],[0.6666666666666666,\"#ed7953\"],[0.7777777777777778,\"#fb9f3a\"],[0.8888888888888888,\"#fdca26\"],[1.0,\"#f0f921\"]],\"sequentialminus\":[[0.0,\"#0d0887\"],[0.1111111111111111,\"#46039f\"],[0.2222222222222222,\"#7201a8\"],[0.3333333333333333,\"#9c179e\"],[0.4444444444444444,\"#bd3786\"],[0.5555555555555556,\"#d8576b\"],[0.6666666666666666,\"#ed7953\"],[0.7777777777777778,\"#fb9f3a\"],[0.8888888888888888,\"#fdca26\"],[1.0,\"#f0f921\"]],\"diverging\":[[0,\"#8e0152\"],[0.1,\"#c51b7d\"],[0.2,\"#de77ae\"],[0.3,\"#f1b6da\"],[0.4,\"#fde0ef\"],[0.5,\"#f7f7f7\"],[0.6,\"#e6f5d0\"],[0.7,\"#b8e186\"],[0.8,\"#7fbc41\"],[0.9,\"#4d9221\"],[1,\"#276419\"]]},\"xaxis\":{\"gridcolor\":\"white\",\"linecolor\":\"white\",\"ticks\":\"\",\"title\":{\"standoff\":15},\"zerolinecolor\":\"white\",\"automargin\":true,\"zerolinewidth\":2},\"yaxis\":{\"gridcolor\":\"white\",\"linecolor\":\"white\",\"ticks\":\"\",\"title\":{\"standoff\":15},\"zerolinecolor\":\"white\",\"automargin\":true,\"zerolinewidth\":2},\"scene\":{\"xaxis\":{\"backgroundcolor\":\"#E5ECF6\",\"gridcolor\":\"white\",\"linecolor\":\"white\",\"showbackground\":true,\"ticks\":\"\",\"zerolinecolor\":\"white\",\"gridwidth\":2},\"yaxis\":{\"backgroundcolor\":\"#E5ECF6\",\"gridcolor\":\"white\",\"linecolor\":\"white\",\"showbackground\":true,\"ticks\":\"\",\"zerolinecolor\":\"white\",\"gridwidth\":2},\"zaxis\":{\"backgroundcolor\":\"#E5ECF6\",\"gridcolor\":\"white\",\"linecolor\":\"white\",\"showbackground\":true,\"ticks\":\"\",\"zerolinecolor\":\"white\",\"gridwidth\":2}},\"shapedefaults\":{\"line\":{\"color\":\"#2a3f5f\"}},\"annotationdefaults\":{\"arrowcolor\":\"#2a3f5f\",\"arrowhead\":0,\"arrowwidth\":1},\"geo\":{\"bgcolor\":\"white\",\"landcolor\":\"#E5ECF6\",\"subunitcolor\":\"white\",\"showland\":true,\"showlakes\":true,\"lakecolor\":\"white\"},\"title\":{\"x\":0.05},\"mapbox\":{\"style\":\"light\"}}},\"xaxis\":{\"tickfont\":{\"size\":10},\"title\":{\"text\":\"<b>Predicted Values</b>\"}},\"yaxis\":{\"tickfont\":{\"size\":10},\"title\":{\"text\":\"<b>Actual Values</b>\"}},\"title\":{\"text\":\"Confusion Matrix\",\"x\":0.5},\"font\":{\"size\":14},\"width\":1050,\"height\":1115,\"plot_bgcolor\":\"white\",\"showlegend\":false},                        {\"responsive\": true}                    ).then(function(){\n",
              "                            \n",
              "var gd = document.getElementById('4a44f966-efd7-4151-815e-24439ed9adfd');\n",
              "var x = new MutationObserver(function (mutations, observer) {{\n",
              "        var display = window.getComputedStyle(gd).display;\n",
              "        if (!display || display === 'none') {{\n",
              "            console.log([gd, 'removed!']);\n",
              "            Plotly.purge(gd);\n",
              "            observer.disconnect();\n",
              "        }}\n",
              "}});\n",
              "\n",
              "// Listen for the removal of the full notebook cells\n",
              "var notebookContainer = gd.closest('#notebook-container');\n",
              "if (notebookContainer) {{\n",
              "    x.observe(notebookContainer, {childList: true});\n",
              "}}\n",
              "\n",
              "// Listen for the clearing of the current output cell\n",
              "var outputEl = gd.closest('.output');\n",
              "if (outputEl) {{\n",
              "    x.observe(outputEl, {childList: true});\n",
              "}}\n",
              "\n",
              "                        })                };                            </script>        </div>\n",
              "</body>\n",
              "</html>"
            ]
          },
          "metadata": {}
        }
      ],
      "source": [
        "fig = go.Figure()\n",
        "\n",
        "# Heatmap\n",
        "fig.add_trace(\n",
        "    go.Heatmap(\n",
        "        z=cm[::-1],\n",
        "        x=list((x_test.class_indices.keys())),\n",
        "        y=list((x_test.class_indices.keys()))[::-1],\n",
        "        text=cm[::-1],\n",
        "        texttemplate=\"<b>%{text}</b>\",\n",
        "        textfont={\"size\":8},\n",
        "        colorscale=[[0, '#f4f4f4'],[1.0, '#76503d']],\n",
        "        showscale = False,\n",
        "        ygap = 5,\n",
        "        xgap = 5,\n",
        "        hovertemplate=\n",
        "        '''\n",
        "        Actual: %{y}<br>\n",
        "        Predicted: %{x}<br>\n",
        "        Total: %{text}\n",
        "        ''',\n",
        "        name=\"Confusion Matrix\"\n",
        "    )\n",
        ")\n",
        "\n",
        "# Update Axes\n",
        "fig.update_xaxes(title=\"<b>Predicted Values</b>\", tickfont_size=10)\n",
        "fig.update_yaxes(title=\"<b>Actual Values</b>\", tickfont_size=10)\n",
        "\n",
        "# Update Layout\n",
        "fig.update_layout(title_text='Confusion Matrix', title_x=0.5, font_size=14,\n",
        "                  width=1050,\n",
        "                  height=1115,\n",
        "                  plot_bgcolor='white',\n",
        "                  showlegend=False,\n",
        ")\n",
        "\n",
        "# Show\n",
        "fig.show()"
      ],
      "id": "iPXeFx7ZERyK"
    },
    {
      "cell_type": "code",
      "execution_count": 41,
      "metadata": {
        "id": "XWrRN0mrE1sX",
        "colab": {
          "base_uri": "https://localhost:8080/"
        },
        "outputId": "015b73e9-c06d-4e32-d36b-504f21d170a7"
      },
      "outputs": [
        {
          "output_type": "stream",
          "name": "stdout",
          "text": [
            "              precision    recall  f1-score   support\n",
            "\n",
            "           A       1.00      1.00      1.00       250\n",
            "           B       1.00      1.00      1.00       250\n",
            "           C       1.00      1.00      1.00       250\n",
            "           D       1.00      1.00      1.00       250\n",
            "           E       1.00      1.00      1.00       250\n",
            "           F       1.00      1.00      1.00       250\n",
            "           G       0.83      0.98      0.90       250\n",
            "           H       0.98      0.80      0.88       250\n",
            "           I       1.00      1.00      1.00       250\n",
            "\n",
            "    accuracy                           0.97      2250\n",
            "   macro avg       0.98      0.97      0.97      2250\n",
            "weighted avg       0.98      0.97      0.97      2250\n",
            "\n"
          ]
        }
      ],
      "source": [
        "from sklearn.metrics import classification_report\n",
        "import numpy as np\n",
        "\n",
        "labels = np.array(list((x_test.class_indices.keys())))\n",
        "\n",
        "\n",
        "print(classification_report(y_true,pred.argmax(axis=1), target_names=labels))"
      ],
      "id": "XWrRN0mrE1sX"
    }
  ],
  "metadata": {
    "accelerator": "GPU",
    "colab": {
      "provenance": []
    },
    "kernelspec": {
      "display_name": "Python 3",
      "name": "python3"
    },
    "language_info": {
      "codemirror_mode": {
        "name": "ipython",
        "version": 3
      },
      "file_extension": ".py",
      "mimetype": "text/x-python",
      "name": "python",
      "nbconvert_exporter": "python",
      "pygments_lexer": "ipython3",
      "version": "3.9.16"
    }
  },
  "nbformat": 4,
  "nbformat_minor": 5
}