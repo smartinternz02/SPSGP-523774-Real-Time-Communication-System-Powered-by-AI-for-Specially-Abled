{
  "cells": [
    {
      "cell_type": "code",
      "execution_count": 1,
      "id": "f73fff3b",
      "metadata": {
        "id": "f73fff3b"
      },
      "outputs": [],
      "source": [
        "# Task-1\n",
        "import pandas as pd\n",
        "from sklearn.model_selection import train_test_split\n",
        "from sklearn.preprocessing import LabelEncoder, StandardScaler"
      ]
    },
    {
      "cell_type": "code",
      "execution_count": 2,
      "id": "104b7485",
      "metadata": {
        "id": "104b7485"
      },
      "outputs": [],
      "source": [
        "data = pd.read_csv(\"drug_classification_dataset.csv\")"
      ]
    },
    {
      "cell_type": "code",
      "execution_count": 3,
      "id": "a4e27693",
      "metadata": {
        "id": "a4e27693"
      },
      "outputs": [],
      "source": [
        "features = data.drop('Drug', axis=1)\n",
        "labels = data['Drug']"
      ]
    },
    {
      "cell_type": "code",
      "execution_count": 4,
      "id": "4e8807b7",
      "metadata": {
        "id": "4e8807b7"
      },
      "outputs": [],
      "source": [
        "categorical_features = ['Sex', 'BP', 'Cholesterol']\n",
        "encoder = LabelEncoder()\n",
        "for feature in categorical_features:\n",
        "    features[feature] = encoder.fit_transform(features[feature])"
      ]
    },
    {
      "cell_type": "code",
      "execution_count": 5,
      "id": "6db5dd0f",
      "metadata": {
        "id": "6db5dd0f"
      },
      "outputs": [],
      "source": [
        "scaler = StandardScaler()\n",
        "numerical_features = ['Age', 'Na_to_K']\n",
        "features[numerical_features] = scaler.fit_transform(features[numerical_features])"
      ]
    },
    {
      "cell_type": "code",
      "execution_count": 6,
      "id": "88f4b83e",
      "metadata": {
        "id": "88f4b83e"
      },
      "outputs": [],
      "source": [
        "X_train, X_test, y_train, y_test = train_test_split(features, labels, test_size=0.2, random_state=42)"
      ]
    },
    {
      "cell_type": "code",
      "execution_count": 7,
      "id": "cef22e32",
      "metadata": {
        "id": "cef22e32"
      },
      "outputs": [],
      "source": [
        "# Task-2\n",
        "import keras\n",
        "from keras.models import Sequential\n",
        "from keras.layers import Dense"
      ]
    },
    {
      "cell_type": "code",
      "execution_count": 8,
      "id": "3b4ea62b",
      "metadata": {
        "id": "3b4ea62b"
      },
      "outputs": [],
      "source": [
        "model = Sequential()"
      ]
    },
    {
      "cell_type": "code",
      "execution_count": 9,
      "id": "4de82338",
      "metadata": {
        "id": "4de82338"
      },
      "outputs": [],
      "source": [
        "model.add(Dense(16, activation='relu', input_shape=(5,)))"
      ]
    },
    {
      "cell_type": "code",
      "execution_count": 10,
      "id": "8361f7e5",
      "metadata": {
        "id": "8361f7e5"
      },
      "outputs": [],
      "source": [
        "model.add(Dense(16, activation='relu'))\n",
        "model.add(Dense(8, activation='relu'))\n",
        "model.add(Dense(4, activation='relu'))"
      ]
    },
    {
      "cell_type": "code",
      "execution_count": 11,
      "id": "71a93a0e",
      "metadata": {
        "id": "71a93a0e"
      },
      "outputs": [],
      "source": [
        "model.add(Dense(1, activation='sigmoid'))"
      ]
    },
    {
      "cell_type": "code",
      "execution_count": 12,
      "id": "3639b518",
      "metadata": {
        "id": "3639b518"
      },
      "outputs": [],
      "source": [
        "model.compile(loss='binary_crossentropy', optimizer='adam', metrics=['accuracy'])"
      ]
    },
    {
      "cell_type": "code",
      "execution_count": 13,
      "id": "04bf10a1",
      "metadata": {
        "colab": {
          "base_uri": "https://localhost:8080/"
        },
        "id": "04bf10a1",
        "outputId": "ce4d650b-bf3f-419e-b8b8-596a6116cd07"
      },
      "outputs": [
        {
          "output_type": "stream",
          "name": "stdout",
          "text": [
            "Model: \"sequential\"\n",
            "_________________________________________________________________\n",
            " Layer (type)                Output Shape              Param #   \n",
            "=================================================================\n",
            " dense (Dense)               (None, 16)                96        \n",
            "                                                                 \n",
            " dense_1 (Dense)             (None, 16)                272       \n",
            "                                                                 \n",
            " dense_2 (Dense)             (None, 8)                 136       \n",
            "                                                                 \n",
            " dense_3 (Dense)             (None, 4)                 36        \n",
            "                                                                 \n",
            " dense_4 (Dense)             (None, 1)                 5         \n",
            "                                                                 \n",
            "=================================================================\n",
            "Total params: 545\n",
            "Trainable params: 545\n",
            "Non-trainable params: 0\n",
            "_________________________________________________________________\n"
          ]
        }
      ],
      "source": [
        "model.summary()"
      ]
    },
    {
      "cell_type": "code",
      "execution_count": 14,
      "id": "230d70f0",
      "metadata": {
        "id": "230d70f0"
      },
      "outputs": [],
      "source": [
        "# Task-3\n",
        "import numpy as np"
      ]
    },
    {
      "cell_type": "code",
      "execution_count": 15,
      "id": "7057faa9",
      "metadata": {
        "id": "7057faa9"
      },
      "outputs": [],
      "source": [
        "random_data = np.array([[50, 0, 2, 2, 20]])"
      ]
    },
    {
      "cell_type": "code",
      "execution_count": 16,
      "id": "a396e743",
      "metadata": {
        "colab": {
          "base_uri": "https://localhost:8080/"
        },
        "id": "a396e743",
        "outputId": "5944fb44-953c-4501-8804-47e1a89a1e11"
      },
      "outputs": [
        {
          "output_type": "stream",
          "name": "stderr",
          "text": [
            "/usr/local/lib/python3.10/dist-packages/sklearn/base.py:439: UserWarning: X does not have valid feature names, but StandardScaler was fitted with feature names\n",
            "  warnings.warn(\n"
          ]
        }
      ],
      "source": [
        "random_data[:, [0, 4]] = scaler.transform(random_data[:, [0, 4]])"
      ]
    },
    {
      "cell_type": "code",
      "execution_count": 17,
      "id": "1ea8a477",
      "metadata": {
        "colab": {
          "base_uri": "https://localhost:8080/"
        },
        "id": "1ea8a477",
        "outputId": "b058a638-556f-4bf2-ff6b-ce55e2fa4b9a"
      },
      "outputs": [
        {
          "output_type": "stream",
          "name": "stdout",
          "text": [
            "1/1 [==============================] - 0s 183ms/step\n"
          ]
        }
      ],
      "source": [
        "predictions = model.predict(random_data)"
      ]
    },
    {
      "cell_type": "code",
      "execution_count": 18,
      "id": "67a4c70d",
      "metadata": {
        "colab": {
          "base_uri": "https://localhost:8080/"
        },
        "id": "67a4c70d",
        "outputId": "91d349f1-3cec-4518-e7d9-31548cd0238b"
      },
      "outputs": [
        {
          "output_type": "stream",
          "name": "stdout",
          "text": [
            "[['DrugX']]\n"
          ]
        }
      ],
      "source": [
        "predicted_class = np.where(predictions > 0.5, 'DrugY', 'DrugX')\n",
        "print(predicted_class)"
      ]
    },
    {
      "cell_type": "code",
      "execution_count": 18,
      "id": "4a835c0e",
      "metadata": {
        "id": "4a835c0e"
      },
      "outputs": [],
      "source": []
    }
  ],
  "metadata": {
    "kernelspec": {
      "display_name": "Python 3 (ipykernel)",
      "language": "python",
      "name": "python3"
    },
    "language_info": {
      "codemirror_mode": {
        "name": "ipython",
        "version": 3
      },
      "file_extension": ".py",
      "mimetype": "text/x-python",
      "name": "python",
      "nbconvert_exporter": "python",
      "pygments_lexer": "ipython3",
      "version": "3.9.13"
    },
    "colab": {
      "provenance": []
    }
  },
  "nbformat": 4,
  "nbformat_minor": 5
}